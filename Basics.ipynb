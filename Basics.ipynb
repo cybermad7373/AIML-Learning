{
 "cells": [
  {
   "cell_type": "markdown",
   "id": "db83b15a-e00d-4342-abae-8778e5098de5",
   "metadata": {},
   "source": [
    "### print(dir(<_variable >))  ---> shows the avilable function applicable on the var"
   ]
  },
  {
   "cell_type": "markdown",
   "id": "4166fdb4-0109-4c40-9075-564a744f73d9",
   "metadata": {},
   "source": [
    "## Strings"
   ]
  },
  {
   "cell_type": "code",
   "execution_count": 35,
   "id": "779ad916-1df8-44d9-ba81-06b598f5eb61",
   "metadata": {},
   "outputs": [
    {
     "name": "stdout",
     "output_type": "stream",
     "text": [
      "Hello WOrld\n",
      "Ruthra\n",
      "Ruthra's World\n",
      "Ruthra's World\n"
     ]
    }
   ],
   "source": [
    "print(\"Hello WOrld\")\n",
    "name = 'Ruthra'\n",
    "print(name)\n",
    "print(\"Ruthra's World\")\n",
    "print('Ruthra\\'s World')"
   ]
  },
  {
   "cell_type": "code",
   "execution_count": 37,
   "id": "fb2295db-b683-41b2-ab37-1b8276cff4d1",
   "metadata": {},
   "outputs": [
    {
     "name": "stdout",
     "output_type": "stream",
     "text": [
      "A\n",
      "B\n",
      "C  \n",
      "D\n"
     ]
    }
   ],
   "source": [
    "multi = \"\"\"A\n",
    "B\n",
    "C  \\nD\"\"\"\n",
    "print(multi)"
   ]
  },
  {
   "cell_type": "code",
   "execution_count": 39,
   "id": "8a73193e-1428-4568-93e6-1c818a960a27",
   "metadata": {},
   "outputs": [
    {
     "name": "stdout",
     "output_type": "stream",
     "text": [
      "6\n"
     ]
    }
   ],
   "source": [
    "print(len(name))"
   ]
  },
  {
   "cell_type": "code",
   "execution_count": 61,
   "id": "e80f6d85-ac09-4799-90fc-7c4adc26a8fe",
   "metadata": {},
   "outputs": [
    {
     "name": "stdout",
     "output_type": "stream",
     "text": [
      "H\n",
      "? uoy era woH ,iH\n",
      "Hi, How are you ?\n",
      "H,Hwaeyu?\n",
      "?uyeawH,H\n",
      "How are you ?\n"
     ]
    }
   ],
   "source": [
    "message = \"Hi, How are you ?\"\n",
    "print(message[0])\n",
    "print(message[::-1])\n",
    "print(message[0:len(message):])\n",
    "print(message[::2])\n",
    "print(message[::-2])\n",
    "print(message[4::])"
   ]
  },
  {
   "cell_type": "code",
   "execution_count": 63,
   "id": "c6cf6b34-11a9-4566-931f-09903a2d6ce9",
   "metadata": {},
   "outputs": [
    {
     "name": "stdout",
     "output_type": "stream",
     "text": [
      "hi, how are you ?\n",
      "HI, HOW ARE YOU ?\n"
     ]
    }
   ],
   "source": [
    "print(message.lower())\n",
    "print(message.upper())"
   ]
  },
  {
   "cell_type": "code",
   "execution_count": 69,
   "id": "0c5ec95c-7fdc-4f4d-b88d-b7ea4c27b39e",
   "metadata": {},
   "outputs": [
    {
     "name": "stdout",
     "output_type": "stream",
     "text": [
      "2\n",
      "5\n"
     ]
    }
   ],
   "source": [
    "print(message.count(\"o\"))\n",
    "print(message.find(\"o\"))"
   ]
  },
  {
   "cell_type": "code",
   "execution_count": 73,
   "id": "e29c3b19-3f4c-4eab-b4c0-a38ae486a49d",
   "metadata": {},
   "outputs": [
    {
     "name": "stdout",
     "output_type": "stream",
     "text": [
      "Hi, How are you ? I am fine\n"
     ]
    }
   ],
   "source": [
    "message2 = \"I am fine\"\n",
    "print(message+\" \"+ message2)"
   ]
  },
  {
   "cell_type": "code",
   "execution_count": null,
   "id": "2c63e50b-b507-4339-8b11-0b3dea94fe0f",
   "metadata": {},
   "outputs": [],
   "source": []
  },
  {
   "cell_type": "code",
   "execution_count": null,
   "id": "4bfd402b-625d-41ce-aa98-7d76f10d74ce",
   "metadata": {},
   "outputs": [],
   "source": []
  }
 ],
 "metadata": {
  "kernelspec": {
   "display_name": "Python [conda env:base] *",
   "language": "python",
   "name": "conda-base-py"
  },
  "language_info": {
   "codemirror_mode": {
    "name": "ipython",
    "version": 3
   },
   "file_extension": ".py",
   "mimetype": "text/x-python",
   "name": "python",
   "nbconvert_exporter": "python",
   "pygments_lexer": "ipython3",
   "version": "3.11.7"
  }
 },
 "nbformat": 4,
 "nbformat_minor": 5
}
