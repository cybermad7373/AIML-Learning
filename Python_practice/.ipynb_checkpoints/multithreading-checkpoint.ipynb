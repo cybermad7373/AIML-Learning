{
 "cells": [
  {
   "cell_type": "code",
   "execution_count": 2,
   "id": "f5b43a41-683c-4ea6-a31c-8d447d67845b",
   "metadata": {},
   "outputs": [],
   "source": [
    "import threading\n",
    "import time"
   ]
  },
  {
   "cell_type": "code",
   "execution_count": 24,
   "id": "7735c6bb-9875-4425-b4c4-7bdf77f8557e",
   "metadata": {},
   "outputs": [],
   "source": [
    "def walk():\n",
    "    time.sleep(5)\n",
    "    print(\"Done walking\")\n",
    "\n",
    "def eat(food):\n",
    "    time.sleep(1)\n",
    "    print(f\"Done eating {food}\")\n",
    "\n",
    "def study():\n",
    "    time.sleep(3)\n",
    "    print(\"Done studing\")"
   ]
  },
  {
   "cell_type": "code",
   "execution_count": 26,
   "id": "491bf686-38b2-404c-b912-aa90bffcddcc",
   "metadata": {},
   "outputs": [
    {
     "name": "stdout",
     "output_type": "stream",
     "text": [
      "Done eating Dosa\n",
      "Done studing\n",
      "Done walking\n",
      "All work done\n"
     ]
    }
   ],
   "source": [
    "chore1 = threading.Thread(target=walk)\n",
    "chore1.start()\n",
    "\n",
    "chore2 = threading.Thread(target=eat,args = (\"Dosa\",))\n",
    "chore2.start()\n",
    "\n",
    "chore3 = threading.Thread(target=study)\n",
    "chore3.start()\n",
    "\n",
    "chore1.join()\n",
    "chore2.join()\n",
    "chore3.join()\n",
    "print(\"All work done\")"
   ]
  },
  {
   "cell_type": "code",
   "execution_count": null,
   "id": "751695a0-f2fc-4bdd-ba99-4f55ebb010a0",
   "metadata": {},
   "outputs": [],
   "source": []
  },
  {
   "cell_type": "code",
   "execution_count": null,
   "id": "e61bd467-eb75-4062-8a1a-89a180109fde",
   "metadata": {},
   "outputs": [],
   "source": []
  }
 ],
 "metadata": {
  "kernelspec": {
   "display_name": "Python [conda env:base] *",
   "language": "python",
   "name": "conda-base-py"
  },
  "language_info": {
   "codemirror_mode": {
    "name": "ipython",
    "version": 3
   },
   "file_extension": ".py",
   "mimetype": "text/x-python",
   "name": "python",
   "nbconvert_exporter": "python",
   "pygments_lexer": "ipython3",
   "version": "3.11.7"
  }
 },
 "nbformat": 4,
 "nbformat_minor": 5
}
