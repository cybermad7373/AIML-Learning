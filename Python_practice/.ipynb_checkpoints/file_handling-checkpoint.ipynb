{
 "cells": [
  {
   "cell_type": "markdown",
   "id": "73847510-fa64-4782-a247-9332384dcf85",
   "metadata": {},
   "source": [
    "### File Detection"
   ]
  },
  {
   "cell_type": "code",
   "execution_count": 2,
   "id": "6ee9b216-a356-4729-9406-d2e090089ff8",
   "metadata": {},
   "outputs": [],
   "source": [
    "import os"
   ]
  },
  {
   "cell_type": "code",
   "execution_count": 14,
   "id": "890674c1-21f8-473c-ada9-e0e0ff6b4780",
   "metadata": {},
   "outputs": [
    {
     "name": "stdout",
     "output_type": "stream",
     "text": [
      "The file is present\n"
     ]
    }
   ],
   "source": [
    "# file_path = \"file.txt\"\n",
    "file_path = \"D:\\AIML\"\n",
    "if os.path.exists(file_path):\n",
    "    print(\"The file is present\")\n",
    "else :\n",
    "    print(\"The file didnt Exist\")"
   ]
  },
  {
   "cell_type": "code",
   "execution_count": 18,
   "id": "ada3581d-b366-43da-8b7e-42466ee11ca0",
   "metadata": {},
   "outputs": [
    {
     "name": "stdout",
     "output_type": "stream",
     "text": [
      "It is directory\n"
     ]
    }
   ],
   "source": [
    "if os.path.isfile(file_path):\n",
    "    print(\"It is file\")\n",
    "elif os.path.isdir(file_path):\n",
    "    print(\"It is directory\")\n",
    "else:\n",
    "    print(\"Dosent exist\")"
   ]
  },
  {
   "cell_type": "markdown",
   "id": "87eedcda-7dcf-429b-9ce1-d810d6343b9a",
   "metadata": {},
   "source": [
    "#  reading (\"r\"), writing (\"w\"), appending (\"a\"), reading and writing (\"r+\")\n"
   ]
  },
  {
   "cell_type": "markdown",
   "id": "01407cfe-5ad2-4d07-9379-d77ab17893dc",
   "metadata": {},
   "source": [
    "### Writing File"
   ]
  },
  {
   "cell_type": "code",
   "execution_count": 54,
   "id": "b5d398b2-ccac-42ce-b0c3-51a8ecb1ebe1",
   "metadata": {},
   "outputs": [
    {
     "name": "stdout",
     "output_type": "stream",
     "text": [
      "File not found\n"
     ]
    }
   ],
   "source": [
    "#.txt\n",
    "\n",
    "txt_data = \"I am Ruthra\"\n",
    "\n",
    "tfile_path = \"output.txt\"\n",
    "try : \n",
    "    with open(tfile_path,'w') as file:\n",
    "        file.write(txt_data+\"\\n\")\n",
    "        print(\"File was created\")\n",
    "except FileExistsError:\n",
    "    print(\"File not found\")"
   ]
  },
  {
   "cell_type": "code",
   "execution_count": 58,
   "id": "f439bd4f-d04f-41ef-9395-1db34843aad0",
   "metadata": {},
   "outputs": [
    {
     "name": "stdout",
     "output_type": "stream",
     "text": [
      "Done\n"
     ]
    }
   ],
   "source": [
    "emp = [\"Arun\",\"Ram\",\"Krish\",\"Anil\"]\n",
    "with open(\"employee.txt\",'w') as f:\n",
    "    for i in emp:\n",
    "        f.write(i+\"\\n\")\n",
    "    print(\"Done\")"
   ]
  },
  {
   "cell_type": "code",
   "execution_count": 66,
   "id": "93d3078f-5fe1-4a89-b11d-bf9656cd4f8f",
   "metadata": {},
   "outputs": [
    {
     "name": "stdout",
     "output_type": "stream",
     "text": [
      "File was created\n"
     ]
    }
   ],
   "source": [
    "# json\n",
    "import json\n",
    "\n",
    "employee = {\n",
    "    \"name\" : \"Ruthra\",\n",
    "    \"age\":21,\n",
    "    \"job\":\"AIML Engineer\"\n",
    "} \n",
    "\n",
    "json_data = \"I am Ruthra\"\n",
    "\n",
    "jfile_path = \"output.json\"\n",
    "try : \n",
    "    with open(jfile_path,'w') as file:\n",
    "        json.dump(employee,file,indent = 4)\n",
    "        print(\"File was created\")\n",
    "except FileExistsError:\n",
    "    print(\"File not found\")"
   ]
  },
  {
   "cell_type": "code",
   "execution_count": null,
   "id": "0c72b5f5-cd4f-49d1-82b6-dbc3a31a2fe2",
   "metadata": {},
   "outputs": [],
   "source": [
    "#csv\n",
    "import csv\n",
    "\n",
    "students = [[\"Name\", \"age\",\"gender\"],\n",
    "           [\"Ruthra\",21,\"male\"],\n",
    "           [\"Ram\",23,\"male\"],\n",
    "           [\"Anu\",25,\"female\"],\n",
    "           [\"Uma\",35,\"female\"]]\n",
    "\n",
    "cfile_path = \"output.csv\"\n",
    "try : \n",
    "    with open(cfile_path,'w') as file:\n",
    "        writer = csv.writer(file)\n",
    "        for i in students:\n",
    "            writer.writerow(i)\n",
    "        print(\"File was created\")\n",
    "except FileExistsError:\n",
    "    print(\"File not found\")"
   ]
  }
 ],
 "metadata": {
  "kernelspec": {
   "display_name": "Python [conda env:base] *",
   "language": "python",
   "name": "conda-base-py"
  },
  "language_info": {
   "codemirror_mode": {
    "name": "ipython",
    "version": 3
   },
   "file_extension": ".py",
   "mimetype": "text/x-python",
   "name": "python",
   "nbconvert_exporter": "python",
   "pygments_lexer": "ipython3",
   "version": "3.11.7"
  }
 },
 "nbformat": 4,
 "nbformat_minor": 5
}
