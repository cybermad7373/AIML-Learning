{
 "cells": [
  {
   "cell_type": "markdown",
   "id": "db83b15a-e00d-4342-abae-8778e5098de5",
   "metadata": {},
   "source": [
    "### print(dir(<_variable >))  ---> shows the avilable function applicable on the var\n",
    "print(help(var))"
   ]
  },
  {
   "cell_type": "markdown",
   "id": "4166fdb4-0109-4c40-9075-564a744f73d9",
   "metadata": {},
   "source": [
    "## Strings"
   ]
  },
  {
   "cell_type": "code",
   "execution_count": 35,
   "id": "779ad916-1df8-44d9-ba81-06b598f5eb61",
   "metadata": {},
   "outputs": [
    {
     "name": "stdout",
     "output_type": "stream",
     "text": [
      "Hello WOrld\n",
      "Ruthra\n",
      "Ruthra's World\n",
      "Ruthra's World\n"
     ]
    }
   ],
   "source": [
    "print(\"Hello WOrld\")\n",
    "name = 'Ruthra'\n",
    "print(name)\n",
    "print(\"Ruthra's World\")\n",
    "print('Ruthra\\'s World')"
   ]
  },
  {
   "cell_type": "code",
   "execution_count": 37,
   "id": "fb2295db-b683-41b2-ab37-1b8276cff4d1",
   "metadata": {},
   "outputs": [
    {
     "name": "stdout",
     "output_type": "stream",
     "text": [
      "A\n",
      "B\n",
      "C  \n",
      "D\n"
     ]
    }
   ],
   "source": [
    "multi = \"\"\"A\n",
    "B\n",
    "C  \\nD\"\"\"\n",
    "print(multi)"
   ]
  },
  {
   "cell_type": "code",
   "execution_count": 39,
   "id": "8a73193e-1428-4568-93e6-1c818a960a27",
   "metadata": {},
   "outputs": [
    {
     "name": "stdout",
     "output_type": "stream",
     "text": [
      "6\n"
     ]
    }
   ],
   "source": [
    "print(len(name))"
   ]
  },
  {
   "cell_type": "code",
   "execution_count": 61,
   "id": "e80f6d85-ac09-4799-90fc-7c4adc26a8fe",
   "metadata": {},
   "outputs": [
    {
     "name": "stdout",
     "output_type": "stream",
     "text": [
      "H\n",
      "? uoy era woH ,iH\n",
      "Hi, How are you ?\n",
      "H,Hwaeyu?\n",
      "?uyeawH,H\n",
      "How are you ?\n"
     ]
    }
   ],
   "source": [
    "message = \"Hi, How are you ?\"\n",
    "print(message[0])\n",
    "print(message[::-1])\n",
    "print(message[0:len(message):])\n",
    "print(message[::2])\n",
    "print(message[::-2])\n",
    "print(message[4::])"
   ]
  },
  {
   "cell_type": "code",
   "execution_count": 63,
   "id": "c6cf6b34-11a9-4566-931f-09903a2d6ce9",
   "metadata": {},
   "outputs": [
    {
     "name": "stdout",
     "output_type": "stream",
     "text": [
      "hi, how are you ?\n",
      "HI, HOW ARE YOU ?\n"
     ]
    }
   ],
   "source": [
    "print(message.lower())\n",
    "print(message.upper())"
   ]
  },
  {
   "cell_type": "code",
   "execution_count": 69,
   "id": "0c5ec95c-7fdc-4f4d-b88d-b7ea4c27b39e",
   "metadata": {},
   "outputs": [
    {
     "name": "stdout",
     "output_type": "stream",
     "text": [
      "2\n",
      "5\n"
     ]
    }
   ],
   "source": [
    "print(message.count(\"o\"))\n",
    "print(message.find(\"o\"))"
   ]
  },
  {
   "cell_type": "code",
   "execution_count": 73,
   "id": "e29c3b19-3f4c-4eab-b4c0-a38ae486a49d",
   "metadata": {},
   "outputs": [
    {
     "name": "stdout",
     "output_type": "stream",
     "text": [
      "Hi, How are you ? I am fine\n"
     ]
    }
   ],
   "source": [
    "message2 = \"I am fine\"\n",
    "print(message+\" \"+ message2)"
   ]
  },
  {
   "cell_type": "code",
   "execution_count": null,
   "id": "2c63e50b-b507-4339-8b11-0b3dea94fe0f",
   "metadata": {},
   "outputs": [],
   "source": []
  },
  {
   "cell_type": "code",
   "execution_count": 12,
   "id": "8c227495-48f8-482a-ba5c-55ea7cbbbc93",
   "metadata": {},
   "outputs": [
    {
     "name": "stdout",
     "output_type": "stream",
     "text": [
      "[2, 4, 6]\n"
     ]
    }
   ],
   "source": [
    "a = [1, 2, 3, 4, 5, 6]\n",
    "even_nums = [x for x in a if x % 2 == 0]\n",
    "print(even_nums)  # Output: [2, 4, 6]\n"
   ]
  },
  {
   "cell_type": "markdown",
   "id": "08ac4ae4-a73d-4a5d-b3c7-4bb20cb7734a",
   "metadata": {},
   "source": [
    "### lambda"
   ]
  },
  {
   "cell_type": "code",
   "execution_count": 4,
   "id": "41a1ba46-dbb9-4167-8c22-0c3bdc9e9654",
   "metadata": {},
   "outputs": [
    {
     "name": "stdout",
     "output_type": "stream",
     "text": [
      "[2, 4, 6, 8, 10]\n"
     ]
    }
   ],
   "source": [
    "a = [1, 2, 3, 4, 5, 6, 7, 8, 9, 10]\n",
    "\n",
    "even_nums = list(filter(lambda x: x % 2 == 0, a))\n",
    "print(even_nums)"
   ]
  },
  {
   "cell_type": "code",
   "execution_count": 8,
   "id": "aa171274-ea74-422b-a3e9-62e3974b66d5",
   "metadata": {},
   "outputs": [
    {
     "name": "stdout",
     "output_type": "stream",
     "text": [
      "[1, 4, 9, 16, 25]\n"
     ]
    }
   ],
   "source": [
    "a = [1, 2, 3, 4, 5]\n",
    "squared = list(map(lambda x: x ** 2, a))\n",
    "print(squared)  # Output: [1, 4, 9, 16, 25]\n"
   ]
  },
  {
   "cell_type": "code",
   "execution_count": 10,
   "id": "45f6fea4-876a-482a-8296-018c8d406e24",
   "metadata": {},
   "outputs": [
    {
     "name": "stdout",
     "output_type": "stream",
     "text": [
      "15\n"
     ]
    }
   ],
   "source": [
    "from functools import reduce\n",
    "a = [1, 2, 3, 4, 5]\n",
    "sum_all = reduce(lambda x, y: x + y, a)\n",
    "print(sum_all)  # Output: 15\n"
   ]
  },
  {
   "cell_type": "code",
   "execution_count": 14,
   "id": "4a3bc00f-3171-4e64-9a1b-4b3d256a0c6b",
   "metadata": {},
   "outputs": [
    {
     "name": "stdout",
     "output_type": "stream",
     "text": [
      "[(1, 'a'), (2, 'b'), (3, 'c')]\n"
     ]
    }
   ],
   "source": [
    "a = [1, 2, 3]\n",
    "b = ['a', 'b', 'c']\n",
    "zipped = list(zip(a, b))\n",
    "print(zipped)  # Output: [(1, 'a'), (2, 'b'), (3, 'c')]\n"
   ]
  },
  {
   "cell_type": "code",
   "execution_count": 16,
   "id": "0fea8c4e-9f65-4833-9ee0-5c01bf35e8e6",
   "metadata": {},
   "outputs": [
    {
     "name": "stdout",
     "output_type": "stream",
     "text": [
      "[(1, 'apple'), (2, 'banana'), (3, 'cherry')]\n"
     ]
    }
   ],
   "source": [
    "a = ['apple', 'banana', 'cherry']\n",
    "indexed = list(enumerate(a, start=1))\n",
    "print(indexed)  # Output: [(1, 'apple'), (2, 'banana'), (3, 'cherry')]\n"
   ]
  },
  {
   "cell_type": "code",
   "execution_count": null,
   "id": "588b9c2c-dcff-4c3f-8d4d-9f361206349c",
   "metadata": {},
   "outputs": [],
   "source": []
  }
 ],
 "metadata": {
  "kernelspec": {
   "display_name": "Python [conda env:base] *",
   "language": "python",
   "name": "conda-base-py"
  },
  "language_info": {
   "codemirror_mode": {
    "name": "ipython",
    "version": 3
   },
   "file_extension": ".py",
   "mimetype": "text/x-python",
   "name": "python",
   "nbconvert_exporter": "python",
   "pygments_lexer": "ipython3",
   "version": "3.11.7"
  }
 },
 "nbformat": 4,
 "nbformat_minor": 5
}
