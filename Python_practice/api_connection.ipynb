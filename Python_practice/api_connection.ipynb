{
 "cells": [
  {
   "cell_type": "code",
   "execution_count": 2,
   "id": "291c31d0-aa9a-4c37-a163-5714bf96ae5f",
   "metadata": {},
   "outputs": [],
   "source": [
    "import requests"
   ]
  },
  {
   "cell_type": "code",
   "execution_count": 4,
   "id": "6bfecfc6-2ec3-4233-bea4-c83f0304bf73",
   "metadata": {},
   "outputs": [],
   "source": [
    "base_url = \"https://pokeapi.co/api/v2/\""
   ]
  },
  {
   "cell_type": "code",
   "execution_count": 56,
   "id": "75cd8f55-44d0-447c-acae-5103e398d0e8",
   "metadata": {},
   "outputs": [],
   "source": [
    "base_url = \"https://pokeapi.co/api/v2\" \n",
    "\n",
    "def get_info(name):\n",
    "    url = f\"{base_url}/pokemon/{name}\"\n",
    "    response = requests.get(url)\n",
    "\n",
    "    if response.status_code == 200:\n",
    "        print(\"Data retrieved!\")\n",
    "        data = response.json()\n",
    "        # print(data) \n",
    "        return data\n",
    "    else:\n",
    "        print(f\"Data retrieval was unsuccessful. Status code: {response.status_code}\")\n",
    "        return None \n"
   ]
  },
  {
   "cell_type": "code",
   "execution_count": 58,
   "id": "6f2b0c62-af06-44c6-a984-785c7edd8632",
   "metadata": {},
   "outputs": [
    {
     "name": "stdout",
     "output_type": "stream",
     "text": [
      "Data retrieved!\n"
     ]
    }
   ],
   "source": [
    "pokemon_name = \"pikachu\"\n",
    "info = get_info(pokemon_name)"
   ]
  },
  {
   "cell_type": "code",
   "execution_count": 54,
   "id": "7be49308-29b5-4e0e-98fa-aa9c2f8e214f",
   "metadata": {},
   "outputs": [
    {
     "name": "stdout",
     "output_type": "stream",
     "text": [
      "Name : pikachu\n",
      "Id : 25\n",
      "Height : 4\n",
      "Weight : 60\n"
     ]
    }
   ],
   "source": [
    "if info:\n",
    "    print(f\"Name : {info['name']}\")\n",
    "    print(f\"Id : {info['id']}\")\n",
    "    print(f\"Height : {info['height']}\")\n",
    "    print(f\"Weight : {info['weight']}\")"
   ]
  },
  {
   "cell_type": "code",
   "execution_count": null,
   "id": "6cf9531f-a6e4-4947-b246-b39e2035d0f8",
   "metadata": {},
   "outputs": [],
   "source": []
  }
 ],
 "metadata": {
  "kernelspec": {
   "display_name": "Python [conda env:base] *",
   "language": "python",
   "name": "conda-base-py"
  },
  "language_info": {
   "codemirror_mode": {
    "name": "ipython",
    "version": 3
   },
   "file_extension": ".py",
   "mimetype": "text/x-python",
   "name": "python",
   "nbconvert_exporter": "python",
   "pygments_lexer": "ipython3",
   "version": "3.11.7"
  }
 },
 "nbformat": 4,
 "nbformat_minor": 5
}
