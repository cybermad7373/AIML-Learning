{
 "cells": [
  {
   "cell_type": "markdown",
   "id": "337fda80-e09e-46a5-a43e-bc47e4ca1b3e",
   "metadata": {},
   "source": [
    "### Numerical Pyhton - Numpy \n",
    "Faster,\n",
    "memory efficient,\n",
    "convenience,\n",
    "multi-dimensional array,\n",
    "Rich Mathematical and Statistical functions,"
   ]
  },
  {
   "cell_type": "markdown",
   "id": "f16c9e67-b9c3-4183-912b-0173869bd5a0",
   "metadata": {},
   "source": [
    "#### Creating np.arrays"
   ]
  },
  {
   "cell_type": "code",
   "execution_count": 5,
   "id": "301ac650-60f5-4633-9ba6-76caec7e627b",
   "metadata": {},
   "outputs": [],
   "source": [
    "import numpy as np"
   ]
  },
  {
   "cell_type": "code",
   "execution_count": 7,
   "id": "b6026b80-f059-470a-b0ff-b65268185bc5",
   "metadata": {},
   "outputs": [
    {
     "data": {
      "text/plain": [
       "array([1, 2, 3, 4, 5])"
      ]
     },
     "execution_count": 7,
     "metadata": {},
     "output_type": "execute_result"
    }
   ],
   "source": [
    "n1 = np.array([1,2,3,4,5])\n",
    "n1"
   ]
  },
  {
   "cell_type": "code",
   "execution_count": 15,
   "id": "3a431090-11b9-40a6-bdfb-33e38fe87273",
   "metadata": {},
   "outputs": [
    {
     "data": {
      "text/plain": [
       "array([[1, 2, 3, 4],\n",
       "       [1, 2, 3, 4]])"
      ]
     },
     "execution_count": 15,
     "metadata": {},
     "output_type": "execute_result"
    }
   ],
   "source": [
    "n2 = np.array([[1,2,3,4],[1,2,3,4]])\n",
    "n2"
   ]
  },
  {
   "cell_type": "code",
   "execution_count": 107,
   "id": "549e1cc5-e56c-4aea-9c0a-808b032d5f94",
   "metadata": {},
   "outputs": [
    {
     "name": "stdout",
     "output_type": "stream",
     "text": [
      "[[[ 1  2  3  4  5]\n",
      "  [ 6  7  8  9  0]\n",
      "  [ 0  0  0  0  0]]\n",
      "\n",
      " [[10 20 30 40 50]\n",
      "  [11 22 33 44 55]\n",
      "  [ 0  0  0  0  0]]]\n"
     ]
    }
   ],
   "source": [
    "n3 = np.array([[[1,2,3,4,5],\n",
    "                [6,7,8,9,0],\n",
    "                [0,0,0,0,0]],\n",
    "               \n",
    "               [[10,20,30,40,50],\n",
    "                [11,22,33,44,55]\n",
    "                ,[0,0,0,0,0]]])\n",
    "print(n3)"
   ]
  },
  {
   "cell_type": "code",
   "execution_count": 23,
   "id": "e54efc46-5ce2-4320-b0b4-1ac03ccfd381",
   "metadata": {},
   "outputs": [
    {
     "data": {
      "text/plain": [
       "array([[0, 0, 0, 0, 0],\n",
       "       [0, 0, 0, 0, 0],\n",
       "       [0, 0, 0, 0, 0]])"
      ]
     },
     "execution_count": 23,
     "metadata": {},
     "output_type": "execute_result"
    }
   ],
   "source": [
    "n0 = np.zeros([3,5], dtype = 'int32')  #default float\n",
    "n0"
   ]
  },
  {
   "cell_type": "code",
   "execution_count": 27,
   "id": "2d3c3883-4134-4372-a755-eb0f6a3147ba",
   "metadata": {},
   "outputs": [
    {
     "data": {
      "text/plain": [
       "array([[[1, 1, 1, 1],\n",
       "        [1, 1, 1, 1],\n",
       "        [1, 1, 1, 1]],\n",
       "\n",
       "       [[1, 1, 1, 1],\n",
       "        [1, 1, 1, 1],\n",
       "        [1, 1, 1, 1]]])"
      ]
     },
     "execution_count": 27,
     "metadata": {},
     "output_type": "execute_result"
    }
   ],
   "source": [
    "n_ones = np.ones([2,3,4], dtype='int32')\n",
    "n_ones"
   ]
  },
  {
   "cell_type": "code",
   "execution_count": 29,
   "id": "61eba031-cf8f-406a-8f64-2f99daeb3206",
   "metadata": {},
   "outputs": [
    {
     "data": {
      "text/plain": [
       "array([[6.23042070e-307, 4.67296746e-307, 1.69121096e-306],\n",
       "       [4.67293691e-307, 1.42413555e-306, 1.78019082e-306]])"
      ]
     },
     "execution_count": 29,
     "metadata": {},
     "output_type": "execute_result"
    }
   ],
   "source": [
    "n5 = np.empty([2,3])     #stored junk values\n",
    "n5"
   ]
  },
  {
   "cell_type": "code",
   "execution_count": 35,
   "id": "165b2402-f470-40a8-b567-3334c8a61c45",
   "metadata": {},
   "outputs": [
    {
     "name": "stdout",
     "output_type": "stream",
     "text": [
      "[0 1 2 3 4 5 6 7 8 9]\n",
      "n7 :  [-5 -3 -1  1  3  5  7  9]\n"
     ]
    }
   ],
   "source": [
    "n6 = np.arange(10)\n",
    "print(n6)\n",
    "n7 = np.arange(-5,10,2)    #same as indexing on string\n",
    "print(\"n7 : \",n7)"
   ]
  },
  {
   "cell_type": "code",
   "execution_count": 37,
   "id": "75552a94-0bad-4365-9283-28538f197666",
   "metadata": {},
   "outputs": [
    {
     "name": "stdout",
     "output_type": "stream",
     "text": [
      "[10.         14.44444444 18.88888889 23.33333333 27.77777778 32.22222222\n",
      " 36.66666667 41.11111111 45.55555556 50.        ]\n"
     ]
    }
   ],
   "source": [
    "n8 = np.linspace(10,50,10)   #linearly spaced\n",
    "print(n8)"
   ]
  },
  {
   "cell_type": "code",
   "execution_count": 43,
   "id": "423ba13a-cfa6-4212-8b00-fbaafc453821",
   "metadata": {},
   "outputs": [
    {
     "data": {
      "text/plain": [
       "array([['><', '><', '><'],\n",
       "       ['><', '><', '><'],\n",
       "       ['><', '><', '><']], dtype='<U2')"
      ]
     },
     "execution_count": 43,
     "metadata": {},
     "output_type": "execute_result"
    }
   ],
   "source": [
    "n9 = np.full([3,3],'><')\n",
    "n9"
   ]
  },
  {
   "cell_type": "markdown",
   "id": "3269cb64-ad77-4363-8912-a71099f867ac",
   "metadata": {},
   "source": [
    "#### Accessing np.arrays"
   ]
  },
  {
   "cell_type": "code",
   "execution_count": 59,
   "id": "2fef58f9-18da-4922-8ea9-1005c05fa5e8",
   "metadata": {},
   "outputs": [
    {
     "name": "stdout",
     "output_type": "stream",
     "text": [
      "2\n"
     ]
    }
   ],
   "source": [
    "print(n1[1])    #same as string sliser"
   ]
  },
  {
   "cell_type": "code",
   "execution_count": 61,
   "id": "718881a1-2fba-4615-a8ad-91308b22c5cc",
   "metadata": {},
   "outputs": [
    {
     "name": "stdout",
     "output_type": "stream",
     "text": [
      "[5 4 3 2 1]\n"
     ]
    }
   ],
   "source": [
    "print(n1[::-1])"
   ]
  },
  {
   "cell_type": "code",
   "execution_count": 71,
   "id": "92afcf46-f7b5-4d42-8d73-8e3c1337a058",
   "metadata": {},
   "outputs": [
    {
     "name": "stdout",
     "output_type": "stream",
     "text": [
      "1\n",
      "[1 2 3 4]\n",
      "[1 2 3 4]\n",
      "[4 4]\n"
     ]
    }
   ],
   "source": [
    "# 2d array\n",
    "print(n2[1,0])\n",
    "print(n2[1])\n",
    "print(n2[1,:])\n",
    "print(n2[:,3])"
   ]
  },
  {
   "cell_type": "code",
   "execution_count": 101,
   "id": "21917720-8cac-40a8-bcc4-66640367e3dc",
   "metadata": {},
   "outputs": [
    {
     "name": "stdout",
     "output_type": "stream",
     "text": [
      "n3 : [[[ 1  2  3  4  5]\n",
      "  [ 6  7  8  9  0]\n",
      "  [ 0  0  0  0  0]]\n",
      "\n",
      " [[10 20 30 40 50]\n",
      "  [11 22 33 44 55]\n",
      "  [ 0  0  0  0  0]]]\n",
      "9\n"
     ]
    }
   ],
   "source": [
    "#3d array\n",
    "print(\"n3 :\",n3)\n",
    "print(n3[0,1,3])"
   ]
  },
  {
   "cell_type": "code",
   "execution_count": 103,
   "id": "0bbc8892-81aa-4706-86dc-5c878af8b249",
   "metadata": {},
   "outputs": [
    {
     "data": {
      "text/plain": [
       "array([[[ 1,  2,  3,  4,  5],\n",
       "        [ 6,  7,  8,  9,  0],\n",
       "        [ 0,  0,  0,  1,  0]],\n",
       "\n",
       "       [[10, 20, 30, 40, 50],\n",
       "        [11, 22, 33, 44, 55],\n",
       "        [ 0,  0,  0,  0,  0]]])"
      ]
     },
     "execution_count": 103,
     "metadata": {},
     "output_type": "execute_result"
    }
   ],
   "source": [
    "n3[0,2,3] = 1\n",
    "n3"
   ]
  },
  {
   "cell_type": "code",
   "execution_count": 284,
   "id": "fc1d0eab-2eef-458a-ac9a-56b54252e186",
   "metadata": {},
   "outputs": [
    {
     "name": "stdout",
     "output_type": "stream",
     "text": [
      "[[ 1  2 10  4]\n",
      " [ 1  2 20  4]]\n",
      "[[ 1  2 10  4]\n",
      " [ 1  2 20  4]]\n",
      "[[ 9  2 10  4]\n",
      " [ 9  2 20  4]]\n"
     ]
    }
   ],
   "source": [
    "print(n2)\n",
    "n2[:,2] = [10,20]           #same for 3d array but should match the dimenison\n",
    "print(n2)\n",
    "n2[:,0] = 9\n",
    "print(n2)"
   ]
  },
  {
   "cell_type": "markdown",
   "id": "d9e10d25-8523-4106-a10b-587c54b03553",
   "metadata": {},
   "source": [
    "#### Size and Shape"
   ]
  },
  {
   "cell_type": "code",
   "execution_count": 121,
   "id": "968224bf-7ff2-4919-bf18-1ca1aa360391",
   "metadata": {},
   "outputs": [
    {
     "name": "stdout",
     "output_type": "stream",
     "text": [
      "1\n",
      "2\n",
      "3\n"
     ]
    }
   ],
   "source": [
    "print(n1.ndim)\n",
    "print(n2.ndim)\n",
    "print(n3.ndim)"
   ]
  },
  {
   "cell_type": "code",
   "execution_count": 123,
   "id": "c73e2ce3-602d-43dc-a88f-d0744582c18d",
   "metadata": {},
   "outputs": [
    {
     "name": "stdout",
     "output_type": "stream",
     "text": [
      "(2, 4)\n",
      "(2, 3, 5)\n"
     ]
    }
   ],
   "source": [
    "print(n2.shape)\n",
    "print(n3.shape)"
   ]
  },
  {
   "cell_type": "code",
   "execution_count": 125,
   "id": "191cc918-c240-4451-acb3-1ea8cdb8922c",
   "metadata": {},
   "outputs": [
    {
     "name": "stdout",
     "output_type": "stream",
     "text": [
      "8\n",
      "30\n"
     ]
    }
   ],
   "source": [
    "print(n2.size)\n",
    "print(n3.size)"
   ]
  },
  {
   "cell_type": "code",
   "execution_count": 127,
   "id": "88043ceb-2310-47f4-9787-dbd4e2132139",
   "metadata": {},
   "outputs": [
    {
     "name": "stdout",
     "output_type": "stream",
     "text": [
      "int32\n",
      "int32\n"
     ]
    }
   ],
   "source": [
    "print(n2.dtype)\n",
    "print(n3.dtype)"
   ]
  },
  {
   "cell_type": "code",
   "execution_count": 131,
   "id": "0598b07e-3ca7-4bc0-8095-23725d3387c9",
   "metadata": {},
   "outputs": [
    {
     "name": "stdout",
     "output_type": "stream",
     "text": [
      "4\n",
      "4\n"
     ]
    }
   ],
   "source": [
    "print(n2.itemsize)\n",
    "print(n3.itemsize)"
   ]
  },
  {
   "cell_type": "code",
   "execution_count": 137,
   "id": "b3ee2762-ce7e-4900-b6c4-c185d479344c",
   "metadata": {},
   "outputs": [
    {
     "name": "stdout",
     "output_type": "stream",
     "text": [
      "32\n",
      "120\n"
     ]
    }
   ],
   "source": [
    "print(n2.nbytes)   # size * itemsize\n",
    "print(n3.nbytes)"
   ]
  },
  {
   "cell_type": "markdown",
   "id": "1097d03e-f6fc-4ade-acb6-cc13f02e79ab",
   "metadata": {},
   "source": [
    "#### Sorting"
   ]
  },
  {
   "cell_type": "code",
   "execution_count": 172,
   "id": "05067cae-4756-420b-b2d7-1a89629c7bf4",
   "metadata": {},
   "outputs": [
    {
     "name": "stdout",
     "output_type": "stream",
     "text": [
      "[ 1  2  4  5  6  7  8 32]\n"
     ]
    },
    {
     "data": {
      "text/plain": [
       "array([ 6,  7,  2,  8, 32,  1,  4,  5])"
      ]
     },
     "execution_count": 172,
     "metadata": {},
     "output_type": "execute_result"
    }
   ],
   "source": [
    "n10 = np.array([6,7,2,8,32,1,4,5])\n",
    "print(np.sort(n10))\n",
    "n10"
   ]
  },
  {
   "cell_type": "code",
   "execution_count": 155,
   "id": "001de0f9-383c-46cc-949c-f188430ae02c",
   "metadata": {},
   "outputs": [
    {
     "name": "stdout",
     "output_type": "stream",
     "text": [
      "[[2 6 7]\n",
      " [3 5 9]]\n"
     ]
    },
    {
     "data": {
      "text/plain": [
       "array([[6, 2, 7],\n",
       "       [3, 5, 9]])"
      ]
     },
     "execution_count": 155,
     "metadata": {},
     "output_type": "execute_result"
    }
   ],
   "source": [
    "n11 = np.array([[6,2,7],[3,5,9]])\n",
    "print(np.sort(n11))\n",
    "n11"
   ]
  },
  {
   "cell_type": "code",
   "execution_count": 157,
   "id": "5114a59a-a609-4569-997a-708260feaa37",
   "metadata": {},
   "outputs": [
    {
     "data": {
      "text/plain": [
       "array([[3, 2, 7],\n",
       "       [6, 5, 9]])"
      ]
     },
     "execution_count": 157,
     "metadata": {},
     "output_type": "execute_result"
    }
   ],
   "source": [
    "np.sort(n11,axis = 0)  #default axis = 1"
   ]
  },
  {
   "cell_type": "code",
   "execution_count": 165,
   "id": "a63ded4d-4cf2-4525-b653-e3394c51b169",
   "metadata": {},
   "outputs": [
    {
     "name": "stdout",
     "output_type": "stream",
     "text": [
      "[[[ 1  2  3  4  5]\n",
      "  [ 0  6  7  8  9]\n",
      "  [ 0  0  0  0  0]]\n",
      "\n",
      " [[10 20 30 40 50]\n",
      "  [11 22 33 44 55]\n",
      "  [ 0  0  0  0  0]]]\n",
      "-------------------\n",
      "[[[ 1  2  3  4  5]\n",
      "  [ 6  7  8  9  0]\n",
      "  [ 0  0  0  0  0]]\n",
      "\n",
      " [[10 20 30 40 50]\n",
      "  [11 22 33 44 55]\n",
      "  [ 0  0  0  0  0]]]\n"
     ]
    }
   ],
   "source": [
    "print(np.sort(n3))\n",
    "print(\"-------------------\")\n",
    "print(np.sort(n3,axis=0))"
   ]
  },
  {
   "cell_type": "markdown",
   "id": "77be3245-fc33-4477-8829-865c9c868f60",
   "metadata": {},
   "source": [
    "#### Reshapin and Conversion"
   ]
  },
  {
   "cell_type": "code",
   "execution_count": 176,
   "id": "bc499d2c-0ccd-4a69-9cc9-9cd6a8ae7acd",
   "metadata": {},
   "outputs": [
    {
     "data": {
      "text/plain": [
       "array([[ 6,  7],\n",
       "       [ 2,  8],\n",
       "       [32,  1],\n",
       "       [ 4,  5]])"
      ]
     },
     "execution_count": 176,
     "metadata": {},
     "output_type": "execute_result"
    }
   ],
   "source": [
    "n12 = n10.reshape(4,2)    # n10 [ 6,  7,  2,  8, 32,  1,  4,  5]\n",
    "n12"
   ]
  },
  {
   "cell_type": "code",
   "execution_count": 180,
   "id": "ad116d89-10eb-4112-8fdf-9a942e2dd095",
   "metadata": {},
   "outputs": [
    {
     "name": "stdout",
     "output_type": "stream",
     "text": [
      "[0 1 2 3] [5 6 7 8]\n"
     ]
    }
   ],
   "source": [
    "n13 = np.arange(4)\n",
    "n14 = np.arange(5,9)\n",
    "print(n13,n14)"
   ]
  },
  {
   "cell_type": "code",
   "execution_count": 184,
   "id": "d1e3741e-5ec8-46b9-bf72-9d9ffdf0eaed",
   "metadata": {},
   "outputs": [
    {
     "data": {
      "text/plain": [
       "array([0, 1, 2, 3, 5, 6, 7, 8])"
      ]
     },
     "execution_count": 184,
     "metadata": {},
     "output_type": "execute_result"
    }
   ],
   "source": [
    "n15 = np.concatenate((n13,n14))\n",
    "n15"
   ]
  },
  {
   "cell_type": "code",
   "execution_count": 196,
   "id": "6f05fb0c-4983-45e0-8b15-0d31f9a5658a",
   "metadata": {},
   "outputs": [
    {
     "name": "stdout",
     "output_type": "stream",
     "text": [
      "[0 1 2 3 4 5 6 7]\n",
      "(8,)\n",
      "[[0 1 2 3 4 5 6 7]]\n",
      "(1, 8)\n",
      "[[0 1 2 3 4 5 6 7]]\n",
      "(1, 8)\n"
     ]
    }
   ],
   "source": [
    "n16 =np.arange(8)\n",
    "print(n16)\n",
    "print(n16.shape)\n",
    "n17 = n16[np.newaxis,:]\n",
    "print(n17)\n",
    "print(n17.shape)\n",
    "n18 = n16[np.newaxis]\n",
    "print(n18)\n",
    "print(n18.shape)"
   ]
  },
  {
   "cell_type": "code",
   "execution_count": 204,
   "id": "c4db379e-c112-4988-8f8d-4b33f636582d",
   "metadata": {},
   "outputs": [
    {
     "name": "stdout",
     "output_type": "stream",
     "text": [
      "n19 : [[0]\n",
      " [1]\n",
      " [2]\n",
      " [3]\n",
      " [4]\n",
      " [5]\n",
      " [6]\n",
      " [7]]\n",
      "n20 : [[0 1 2 3 4 5 6 7]]\n"
     ]
    }
   ],
   "source": [
    "n19 = np.expand_dims(n16,axis = 1)\n",
    "print( \"n19 :\",n19)\n",
    "\n",
    "n20 = np.expand_dims(n16,axis = 0)\n",
    "print(\"n20 :\",n20)"
   ]
  },
  {
   "cell_type": "markdown",
   "id": "a7bd0e51-c9f6-4e12-a833-9591e4238c10",
   "metadata": {},
   "source": [
    "#### Indexing and Slicing"
   ]
  },
  {
   "cell_type": "code",
   "execution_count": 209,
   "id": "a2ca523f-e8bd-4bb3-8cd2-ea955aedc439",
   "metadata": {},
   "outputs": [
    {
     "name": "stdout",
     "output_type": "stream",
     "text": [
      "[0 1 2 3 4 5 6 7 8 9]\n",
      "[0 1 2 3 4]\n"
     ]
    }
   ],
   "source": [
    "n21 = np.arange(10)\n",
    "print(n21)\n",
    "print(n21[n21<5])"
   ]
  },
  {
   "cell_type": "code",
   "execution_count": 215,
   "id": "da58db27-b718-4880-876d-45b898139273",
   "metadata": {},
   "outputs": [
    {
     "name": "stdout",
     "output_type": "stream",
     "text": [
      "[4 5 6 7]\n"
     ]
    }
   ],
   "source": [
    "print(n21[(n21>3) & (n21<8)])"
   ]
  },
  {
   "cell_type": "code",
   "execution_count": 219,
   "id": "6b2aeb0c-3ce6-40fb-b9f5-7aff33d8e645",
   "metadata": {},
   "outputs": [
    {
     "name": "stdout",
     "output_type": "stream",
     "text": [
      "[False False False False False False  True  True  True  True]\n",
      "[6 7 8 9]\n"
     ]
    }
   ],
   "source": [
    "five_up = n21>5\n",
    "print(five_up)\n",
    "print(n21[five_up])"
   ]
  },
  {
   "cell_type": "code",
   "execution_count": 223,
   "id": "75836ae3-82a3-4f22-979f-c3d8f2118cdd",
   "metadata": {},
   "outputs": [
    {
     "name": "stdout",
     "output_type": "stream",
     "text": [
      "[  0   1   2   3   4   5 100   7   8   9]\n",
      "(array([6, 7, 8, 9], dtype=int64),)\n"
     ]
    }
   ],
   "source": [
    "n21[6] = 100\n",
    "print(n21)\n",
    "print(np.nonzero(n21>5))    # return the index"
   ]
  },
  {
   "cell_type": "code",
   "execution_count": 225,
   "id": "b9d9fa47-9f95-4745-be5f-79eb22b5f17d",
   "metadata": {},
   "outputs": [
    {
     "name": "stdout",
     "output_type": "stream",
     "text": [
      "[  9   8   7 100   5   4   3   2   1   0]\n"
     ]
    }
   ],
   "source": [
    "print(n21[::-1])  #slicing canm be done"
   ]
  },
  {
   "cell_type": "markdown",
   "id": "6e50aaf0-2dcb-468a-ab90-2b590342ffa4",
   "metadata": {},
   "source": [
    "#### Stack,Split"
   ]
  },
  {
   "cell_type": "code",
   "execution_count": 239,
   "id": "77548d50-2240-4a82-ab58-68c0469979df",
   "metadata": {},
   "outputs": [
    {
     "name": "stdout",
     "output_type": "stream",
     "text": [
      "[[1 2]\n",
      " [3 4]]\n",
      "[[5 6]\n",
      " [7 8]]\n"
     ]
    }
   ],
   "source": [
    "n22 = np.array([[1,2],[3,4]])\n",
    "n23 = np.array([[5,6],[7,8]])\n",
    "print(n22)\n",
    "print(n23)"
   ]
  },
  {
   "cell_type": "code",
   "execution_count": 243,
   "id": "ac63ab39-b155-485b-a5f7-d2fb2165747b",
   "metadata": {},
   "outputs": [
    {
     "name": "stdout",
     "output_type": "stream",
     "text": [
      "[[1 2 5 6]\n",
      " [3 4 7 8]]\n",
      "[[1 2]\n",
      " [3 4]\n",
      " [5 6]\n",
      " [7 8]]\n"
     ]
    }
   ],
   "source": [
    "print(np.hstack((n22,n23)))\n",
    "print( np.vstack((n22,n23)))"
   ]
  },
  {
   "cell_type": "code",
   "execution_count": 249,
   "id": "22fd25a7-2e44-42a6-a482-6e7ed2c0f8b2",
   "metadata": {},
   "outputs": [
    {
     "name": "stdout",
     "output_type": "stream",
     "text": [
      "[ 0  1  2  3  4  5  6  7  8  9 10 11 12 13 14 15 16 17 18 19]\n",
      "[array([0, 1, 2, 3, 4]), array([5, 6, 7, 8, 9]), array([10, 11, 12, 13, 14]), array([15, 16, 17, 18, 19])]\n"
     ]
    }
   ],
   "source": [
    "n24 = np.arange(20)\n",
    "print(n24)\n",
    "print(np.hsplit(n24,4))\n",
    "# print(np.vsplit(n24,4))  # can do on 2d array"
   ]
  },
  {
   "cell_type": "markdown",
   "id": "5850a8c4-175a-4231-b437-89a673d1b262",
   "metadata": {},
   "source": [
    "#### Copy"
   ]
  },
  {
   "cell_type": "code",
   "execution_count": 254,
   "id": "9cf6026d-951d-447d-9493-0e6db3014d23",
   "metadata": {},
   "outputs": [
    {
     "name": "stdout",
     "output_type": "stream",
     "text": [
      "[1000    1    2    3    4    5    6    7    8    9   10   11   12   13\n",
      "   14   15   16   17   18   19]\n",
      "[1000    1    2    3    4    5    6    7    8    9   10   11   12   13\n",
      "   14   15   16   17   18   19]\n"
     ]
    }
   ],
   "source": [
    "n25 = n24              #shallow copy\n",
    "n24[0] = 1000\n",
    "print(n24)\n",
    "print(n25)              # changes made in both var, means refers to the same location"
   ]
  },
  {
   "cell_type": "code",
   "execution_count": 258,
   "id": "1b677d72-62f6-471b-86dd-83d4074e199a",
   "metadata": {},
   "outputs": [
    {
     "name": "stdout",
     "output_type": "stream",
     "text": [
      "[1000    1  554    3    4    5    6    7    8    9   10   11   12   13\n",
      "   14   15   16   17   18   19]\n",
      "[1000    1  554    3    4    5    6    7    8    9   10   11   12   13\n",
      "   14   15   16   17   18   19]\n"
     ]
    }
   ],
   "source": [
    "n26 = n24.copy()    # deep copy\n",
    "n24[2] = 554\n",
    "print(n24)\n",
    "print(n26)    "
   ]
  },
  {
   "cell_type": "markdown",
   "id": "0cd77f33-fb02-46b8-8a39-c371d443ae79",
   "metadata": {},
   "source": [
    "####  Math"
   ]
  },
  {
   "cell_type": "code",
   "execution_count": 263,
   "id": "58585a0c-0fda-4579-b897-0b320dc0ffa2",
   "metadata": {},
   "outputs": [
    {
     "name": "stdout",
     "output_type": "stream",
     "text": [
      "[[1 2]\n",
      " [3 4]]\n",
      "[[5 6]\n",
      " [7 8]]\n",
      "[[ 6  8]\n",
      " [10 12]]\n"
     ]
    }
   ],
   "source": [
    "print(n22)\n",
    "print(n23)\n",
    "print(n22+n23)  # performs arithmetic operations directly on them"
   ]
  },
  {
   "cell_type": "code",
   "execution_count": 269,
   "id": "a669a424-2747-49e1-9e60-5cbdf194d144",
   "metadata": {},
   "outputs": [
    {
     "name": "stdout",
     "output_type": "stream",
     "text": [
      "10\n",
      "4\n",
      "1\n",
      "[[10 20]\n",
      " [30 40]]\n"
     ]
    }
   ],
   "source": [
    "print(n22.sum())\n",
    "print(n22.max())\n",
    "print(n22.min())\n",
    "print(n22*10)"
   ]
  },
  {
   "cell_type": "code",
   "execution_count": 276,
   "id": "493c3af3-f095-4c89-beef-c4723cb8ee24",
   "metadata": {},
   "outputs": [
    {
     "name": "stdout",
     "output_type": "stream",
     "text": [
      "[[ 0.54030231 -0.41614684]\n",
      " [-0.9899925  -0.65364362]]\n"
     ]
    }
   ],
   "source": [
    "print(np.cos(n22))"
   ]
  },
  {
   "cell_type": "markdown",
   "id": "15398e5d-c177-426b-b472-7a4bf35ebde1",
   "metadata": {},
   "source": [
    "#### Random"
   ]
  },
  {
   "cell_type": "code",
   "execution_count": 272,
   "id": "e025b6a7-1194-459f-ba74-dbd52912933a",
   "metadata": {},
   "outputs": [
    {
     "data": {
      "text/plain": [
       "array([[0.78479669, 0.07996001],\n",
       "       [0.78242376, 0.24164816],\n",
       "       [0.81152722, 0.2892808 ]])"
      ]
     },
     "execution_count": 272,
     "metadata": {},
     "output_type": "execute_result"
    }
   ],
   "source": [
    "np.random.rand(3,2)"
   ]
  },
  {
   "cell_type": "code",
   "execution_count": 289,
   "id": "b5275df9-8abe-4572-9e50-54588c3f27cb",
   "metadata": {},
   "outputs": [
    {
     "data": {
      "text/plain": [
       "array([[ 3, 18,  1,  7],\n",
       "       [14,  9, -1,  0],\n",
       "       [10,  4,  3,  2]])"
      ]
     },
     "execution_count": 289,
     "metadata": {},
     "output_type": "execute_result"
    }
   ],
   "source": [
    "np.random.randint(-4,20,size=(3,4))   # randint(min_value, max_value,size= row,column)"
   ]
  },
  {
   "cell_type": "markdown",
   "id": "a64f4a73-09a4-40a7-be27-dde0367d63e9",
   "metadata": {},
   "source": [
    "####  Others"
   ]
  },
  {
   "cell_type": "code",
   "execution_count": 292,
   "id": "c5aedaaa-c523-42f3-9735-524bbb932173",
   "metadata": {},
   "outputs": [
    {
     "data": {
      "text/plain": [
       "array([[1., 0., 0., 0., 0.],\n",
       "       [0., 1., 0., 0., 0.],\n",
       "       [0., 0., 1., 0., 0.],\n",
       "       [0., 0., 0., 1., 0.],\n",
       "       [0., 0., 0., 0., 1.]])"
      ]
     },
     "execution_count": 292,
     "metadata": {},
     "output_type": "execute_result"
    }
   ],
   "source": [
    "np.identity(5)   # n x n  matrix"
   ]
  },
  {
   "cell_type": "code",
   "execution_count": 326,
   "id": "b3685871-c21c-4994-a898-14d50f853b94",
   "metadata": {},
   "outputs": [
    {
     "name": "stdout",
     "output_type": "stream",
     "text": [
      "[1 1 1 1 1 1 1 1 1 1 2 2 2 2 2 2 2 2 2 2 3 3 3 3 3 3 3 3 3 3]\n"
     ]
    }
   ],
   "source": [
    "arr = np.array([1,2,3])\n",
    "r1 = np.repeat(arr,10)\n",
    "print(r1)\n",
    "r2 = arr[np.newaxis]\n",
    "r2 = np.repeat(arr,5,axis = 0)"
   ]
  },
  {
   "cell_type": "markdown",
   "id": "1c129557-4937-4463-957f-83017842c677",
   "metadata": {},
   "source": [
    "##### ex "
   ]
  },
  {
   "cell_type": "code",
   "execution_count": 331,
   "id": "e548f36b-9576-47b4-ac12-06e314b841eb",
   "metadata": {},
   "outputs": [
    {
     "data": {
      "text/plain": [
       "array([[1., 1., 1., 1., 1.],\n",
       "       [1., 1., 1., 1., 1.],\n",
       "       [1., 1., 1., 1., 1.],\n",
       "       [1., 1., 1., 1., 1.],\n",
       "       [1., 1., 1., 1., 1.]])"
      ]
     },
     "execution_count": 331,
     "metadata": {},
     "output_type": "execute_result"
    }
   ],
   "source": [
    "out = np.ones((5,5))\n",
    "out"
   ]
  },
  {
   "cell_type": "code",
   "execution_count": 339,
   "id": "b5d4d7f9-ca10-4df7-a812-557fcf4363c3",
   "metadata": {},
   "outputs": [
    {
     "data": {
      "text/plain": [
       "array([[0., 0., 0.],\n",
       "       [0., 9., 0.],\n",
       "       [0., 0., 0.]])"
      ]
     },
     "execution_count": 339,
     "metadata": {},
     "output_type": "execute_result"
    }
   ],
   "source": [
    "temp = np.zeros((3,3))\n",
    "temp[1,1] = 9\n",
    "temp"
   ]
  },
  {
   "cell_type": "code",
   "execution_count": 343,
   "id": "23325dfe-f49c-4e56-9fc6-3232daf10d87",
   "metadata": {},
   "outputs": [
    {
     "data": {
      "text/plain": [
       "array([[1., 1., 1., 1., 1.],\n",
       "       [1., 0., 0., 0., 1.],\n",
       "       [1., 0., 9., 0., 1.],\n",
       "       [1., 0., 0., 0., 1.],\n",
       "       [1., 1., 1., 1., 1.]])"
      ]
     },
     "execution_count": 343,
     "metadata": {},
     "output_type": "execute_result"
    }
   ],
   "source": [
    "out[1:-1,1:-1] = temp\n",
    "out"
   ]
  },
  {
   "cell_type": "markdown",
   "id": "696d1f3e-defc-4bb2-affe-da14ee97c839",
   "metadata": {},
   "source": [
    "##### Linear Alg"
   ]
  },
  {
   "cell_type": "code",
   "execution_count": 361,
   "id": "d24be7df-54fe-4529-a48b-af7fa0d9083e",
   "metadata": {},
   "outputs": [
    {
     "name": "stdout",
     "output_type": "stream",
     "text": [
      "[[1. 1. 1.]\n",
      " [1. 1. 1.]]\n",
      "[[5 9]\n",
      " [9 6]\n",
      " [3 2]]\n",
      "\n",
      "[[17. 17.]\n",
      " [17. 17.]]\n"
     ]
    }
   ],
   "source": [
    "# matrix mul\n",
    "a = np.ones((2,3))\n",
    "b= np.random.randint(2,10,(3,2))\n",
    "print(a)\n",
    "print(b,end=\"\\n\\n\")\n",
    "print(np.matmul(a,b))"
   ]
  },
  {
   "cell_type": "code",
   "execution_count": 365,
   "id": "25ece742-1d0e-49a6-8cdb-4438da7532f5",
   "metadata": {},
   "outputs": [
    {
     "data": {
      "text/plain": [
       "1.0"
      ]
     },
     "execution_count": 365,
     "metadata": {},
     "output_type": "execute_result"
    }
   ],
   "source": [
    "c = np.identity(3)\n",
    "np.linalg.det(c)        # determinant of identity matrix in 1"
   ]
  },
  {
   "cell_type": "markdown",
   "id": "a31b9b80-cd93-4aa2-8a81-eb4b9eac9ff0",
   "metadata": {},
   "source": [
    "##### stat\n",
    "\n",
    "min, max, sum"
   ]
  },
  {
   "cell_type": "markdown",
   "id": "7ec34ead-5cb9-4464-b840-d23923c3ab5b",
   "metadata": {},
   "source": [
    "### Data from file"
   ]
  },
  {
   "cell_type": "code",
   "execution_count": 387,
   "id": "a7d55fc7-da6a-486d-ae04-546686b3734e",
   "metadata": {},
   "outputs": [
    {
     "data": {
      "text/plain": [
       "array([[  1,   2,   3,   4,   5,   6,   4,   8,  66,   5,   6,   5,   5],\n",
       "       [ 65,   6,  64,  54,   5,   3,  54,  11,  24,  54,   0,  24,  62],\n",
       "       [  5,  64,  91,  64,  61,  64,  61,  64,  61, 446,   5,   6,   2]])"
      ]
     },
     "execution_count": 387,
     "metadata": {},
     "output_type": "execute_result"
    }
   ],
   "source": [
    "file_data = np.genfromtxt('data.txt',delimiter=',').astype('int32')\n",
    "file_data"
   ]
  },
  {
   "cell_type": "code",
   "execution_count": null,
   "id": "8f986a36-9074-4cef-a8e0-cadb7d600c58",
   "metadata": {},
   "outputs": [],
   "source": []
  }
 ],
 "metadata": {
  "kernelspec": {
   "display_name": "Python [conda env:base] *",
   "language": "python",
   "name": "conda-base-py"
  },
  "language_info": {
   "codemirror_mode": {
    "name": "ipython",
    "version": 3
   },
   "file_extension": ".py",
   "mimetype": "text/x-python",
   "name": "python",
   "nbconvert_exporter": "python",
   "pygments_lexer": "ipython3",
   "version": "3.11.7"
  }
 },
 "nbformat": 4,
 "nbformat_minor": 5
}
